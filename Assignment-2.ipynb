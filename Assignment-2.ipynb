import yfinance as yf
import pandas as pd
import numpy as np
import matplotlib.pyplot as plt
import talib

nasdaq = yf.download("^IXIC", start = "2010-01-01",end = "2023-06-01")

nasdaq

nasdaq_close = np.array(nasdaq.Close)
nasdaq_close

nse = yf.download("^NSEI", start = "2010-01-01",end = "2023-06-01")

nse

nse_close = np.array(nse.Close)
nse_close

comb = (pd.merge(nse,nasdaq ,on = 'Date',suffixes = ('_nse','_nasdaq'))).loc[:, ['Close_nse', 'Close_nasdaq']]

comb

nse_array = comb['Close_nse'].to_numpy()
nasdaq_array = comb['Close_nasdaq'].to_numpy()

nse_array

corcof = np.corrcoef(nse_array,nasdaq_array) #corcof = correlation coefficient

corcof  #values at (1,2) and (2,1) gives correlation coefficient between nse and nasdaq

plt.plot(comb.index, comb['Close_nse'], color='r', label='nse')
plt.plot(comb.index, comb['Close_nasdaq'], color='b', label='nasdaq')
plt.legend

nse_prices = nse['Close']
nasdaq_prices = nasdaq['Close']

nse_returns = comb['Close_nse']
nasdaq_returns = comb['Close_nasdaq']

max_lag = 20
lead_lag_correlation = []
for lag in range(-max_lag, max_lag+1):
    shifted_nasdaq_returns = nasdaq_returns.shift(lag)
    correlation_coefficient = np.corrcoef(shifted_nasdaq_returns[max_lag:], nse_returns[max_lag:])[0, 1]
    lead_lag_correlation.append(correlation_coefficient)

lags = range(-max_lag, max_lag+1)
plt.plot(lags, lead_lag_correlation)
plt.xlabel('Lag')
plt.ylabel('Correlation Coefficient')
plt.title('Lead-Lag Relationship between NSE and NASDAQ')
plt.grid(True)
plt.show()

max_lag = 20

lead_lag_correlation = []
for lag in range(-max_lag, max_lag+1):
    shifted_nse_returns = nse_returns.shift(lag)
    correlation_coefficient = np.corrcoef(shifted_nse_returns[max_lag:], nasdaq_returns[max_lag:])[0, 1]
    lead_lag_correlation.append(correlation_coefficient)

lags = range(-max_lag, max_lag+1)
plt.plot(lags, lead_lag_correlation)
plt.xlabel('Lag')
plt.ylabel('Correlation Coefficient')
plt.title('Lead-Lag Relationship between NSE and NASDAQ')
plt.grid(True)
plt.show()

nse_kc = nse.copy() #nse_kc for Keltner Channel of NSE

nse_kc['ATR'] = talib.ATR(nse_kc['High'], nse_kc['Low'], nse_kc['Close'], timeperiod=14)
nse_kc['middle_band'] = talib.EMA(nse_kc['Close'], timeperiod=20)
nse_kc['upper_band'] = nse_kc['middle_band'] + 2 * nse_kc['ATR']
nse_kc['lower_band'] = nse_kc['middle_band'] - 2 * nse_kc['ATR']

nse_kc

plt.plot(nse_kc.index , nse_kc['middle_band'], color = 'b',label = 'middle_band')
plt.plot(nse_kc.index , nse_kc['lower_band'], color = 'r',label = 'lower_band')
plt.plot(nse_kc.index , nse_kc['upper_band'], color = 'g',label = 'upper_band')
plt.legend()
plt.title('NSE Keltner Channel')

nasdaq_kc = nasdaq.copy() #nasdaq_kc for Keltner Channel of NASDAQ

nasdaq_kc['ATR'] = talib.ATR(nasdaq_kc['High'], nasdaq_kc['Low'], nasdaq_kc['Close'], timeperiod=14)
nasdaq_kc['middle_band'] = talib.SMA(nasdaq_kc['Close'], timeperiod=2)
nasdaq_kc['upper_band'] = nasdaq_kc['middle_band'] #+ 500 * nasdaq_kc['ATR']
nasdaq_kc['lower_band'] = nasdaq_kc['middle_band'] #- 500 * nasdaq_kc['ATR']

nasdaq_kc

plt.plot(nasdaq_kc.index , nasdaq_kc['middle_band'], color = 'b',label = 'middle_band')
plt.plot(nasdaq_kc.index , nasdaq_kc['lower_band'], color = 'r',label = 'lower_band')
plt.plot(nasdaq_kc.index , nasdaq_kc['upper_band'], color = 'g',label = 'upper_band')
plt.legend()
plt.title('NASDAQ Keltner Channel')

nse_bb = nse.copy() #nse_bb for Bollinger Bands of NSE

nse_bb['middle_band'] = talib.SMA(nse_bb['Close'], timeperiod=20)
std_dev = talib.STDDEV(nse_bb['Close'], timeperiod=20)
nse_bb['upper_band'] = nse_bb['middle_band'] + 2 * std_dev
nse_bb['lower_band'] = nse_bb['middle_band'] - 2 * std_dev

nse_bb

plt.plot(nse_bb.index, nse_bb['middle_band'], color='b', label = 'middle_band')
plt.plot(nse_bb.index, nse_bb['lower_band'], color='r',label = 'lower_band')
plt.plot(nse_bb.index, nse_bb['upper_band'], color='g',label = 'upper_band')
plt.legend()
plt.title('NSE Bollinger Bands')

nasdaq_bb = nasdaq.copy()

tp = 2
nasdaq_bb['middle_band'] = talib.SMA(nasdaq_bb['Close'], timeperiod=tp)
std_dev = talib.STDDEV(nasdaq_bb['Close'], timeperiod=tp)
nasdaq_bb['upper_band'] = nasdaq_bb['middle_band'] + 2 * std_dev
nasdaq_bb['lower_band'] = nasdaq_bb['middle_band'] - 2 * std_dev

nasdaq_bb#.drop(['Cumulative Returns','Portfolio','Returns','Strategy Returns'],axis = 1)

nasdaq_bb.Returns.sum()

plt.plot(nasdaq_bb.index, nasdaq_bb['middle_band'], color='b',label = 'middle_band')
plt.plot(nasdaq_bb.index, nasdaq_bb['lower_band'], color='r',label = 'lower_band')
plt.plot(nasdaq_bb.index, nasdaq_bb['upper_band'], color='g',label = 'upper_band')
plt.legend()
plt.title('Nasdaq Bollinger Bands')

nasdaq_macd = nasdaq.copy()

macd_nse, signal_nse, _ = talib.MACD(nse['Close'], fastperiod=12, slowperiod=26, signalperiod=9)
plt.plot(nse.index, macd_nse, label='MACD Line')
plt.plot(nse.index, signal_nse, label='Signal Line')
plt.title('MACD Line NSE')
plt.xlabel('Date')
plt.ylabel('MACD')
plt.legend()

macd_nasdaq, signal_nasdaq, _ = talib.MACD(nasdaq['Close'], fastperiod=12, slowperiod=26, signalperiod=9)
plt.plot(nasdaq.index, macd_nasdaq, label='MACD Line')
plt.plot(nasdaq.index, signal_nasdaq, label='Signal Line')
plt.title('MACD Line NASDAQ')
plt.xlabel('Date')
plt.ylabel('MACD')
plt.legend()

nasdaq_macd

def simulate_trades(data, upper_band, middle_band,lower_band):
    positions = np.zeros(len(data))
    portfolio = np.zeros(len(data))
    position = 0

    for i in range(1, len(data)):
        if data['Close'].iloc[i] > upper_band.iloc[i] and data['Close'].iloc[i - 1] <= upper_band.iloc[i - 1]:
            positions[i] = 1
            position = 1
        elif data['Close'].iloc[i] < middle_band.iloc[i] and data['Close'].iloc[i - 1] >=middle_band.iloc[i - 1]:
            positions[i] = -1
            position = -1
        elif data['Close'].iloc[i] < lower_band.iloc[i] and data['Close'].iloc[i - 1] >= upper_band.iloc[i - 1]:
            positions[i] = -1
            position = -1
        elif data['Close'].iloc[i] > middle_band.iloc[i] and data['Close'].iloc[i - 1] <=middle_band.iloc[i - 1]:
            positions[i] = 1
            position = 1
       else:
            positions[i] = 0

    portfolio[0] = data['Close'].iloc[0]
    for i in range(1, len(data)):
        if positions[i] == 0:
            portfolio[i] = portfolio[i - 1]
        elif positions[i] == 1:
            portfolio[i] = portfolio[i - 1] * (data['Close'].iloc[i] / data['Close'].iloc[i - 1])
        elif positions[i] == -1:
            portfolio[i] = portfolio[i - 1] / (data['Close'].iloc[i] / data['Close'].iloc[i - 1])

    data['Position'] = positions
    data['Portfolio'] = portfolio
    data['Returns'] = data['Portfolio'] - data['Portfolio'].shift(1)
    return data


simulate_trades(nasdaq_kc , nasdaq_kc.upper_band, nasdaq_kc.middle_band,nasdaq_kc.lower_band)

nasdaq_kc.Returns.sum()

nasdaq_bb['signal'] = 0

for i in range(1, len(nasdaq_bb)):
    if nasdaq_bb['Close'][i] < nasdaq_bb['lower_band'][i] and nasdaq_bb['Close'][i-1] > nasdaq_bb['lower_band'][i-1]:
        nasdaq_bb['signal'][i] = 1  # Buy signal
    elif nasdaq_bb['Close'][i] > nasdaq_bb['upper_band'][i] and nasdaq_bb['Close'][i-1] < nasdaq_bb['upper_band'][i-1]:
        nasdaq_bb['signal'][i] = -1  # Sell signal

# Execute trades based on signals
nasdaq_bb['position'] = nasdaq_bb['signal'].diff()
nasdaq_bb['position'].fillna(0, inplace=True)

# Calculate portfolio value
initial_capital = 100000.0
nasdaq_bb['holdings'] = nasdaq_bb['position'].cumsum() * nasdaq_bb['Close']
nasdaq_bb['cash'] = initial_capital - (nasdaq_bb['position'] * nasdaq_bb['Close']).cumsum()
nasdaq_bb['total'] = nasdaq_bb['cash'] + nasdaq_bb['holdings']

# Print final portfolio value
final_portfolio_value = nasdaq_bb['total'].iloc[-1]
print('Final Portfolio Value:', final_portfolio_value)

nasdaq_bb

macd_nasdaq['signal'] = 0
macd, macd_signal, _ = talib.MACD(nasdaq_macd['Close'])

for i in range(1, len(macd_nasdaq)):
    if macd_nasdaq[i] > macd_signal[i] and macd_nasdaq[i-1] <= macd_signal[i-1]:
        nasdaq_macd['signal'][i] = 1  # Buy signal
    elif macd_nasdaq[i] < macd_signal[i] and macd_nasdaq[i-1] >= macd_signal[i-1]:
        nasdaq_macd['signal'][i] = -1  # Sell signal

# Execute trades based on signals
macd_nasdaq['position'] = macd_nasdaq['signal'].diff()
macd_nasdaq['position'].fillna(0, inplace=True)

# Calculate portfolio value
initial_capital = 100000.0
macd_nasdaq['holdings'] = macd_nasdaq['position'].cumsum() * macd_nasdaq['Close']
macd_nasdaq['cash'] = initial_capital - (macd_nasdaq['position'] * macd_nasdaq['Close']).cumsum()
macd_nasdaq['total'] = macd_nasdaq['cash'] + macd_nasdaq['holdings']

# Print final portfolio value
final_portfolio_value = macd_nasdaq['total'].iloc[-1]
print('Final Portfolio Value:', final_portfolio_value)

